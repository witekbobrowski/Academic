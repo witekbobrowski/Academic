{
 "cells": [
  {
   "cell_type": "markdown",
   "metadata": {},
   "source": [
    "# Statistical Methods"
   ]
  },
  {
   "cell_type": "markdown",
   "metadata": {},
   "source": [
    "### Task 1 \n",
    "Generate random variable `x` historgram and fill it with random values generated using Gaussian distribution."
   ]
  },
  {
   "cell_type": "code",
   "execution_count": null,
   "metadata": {},
   "outputs": [],
   "source": [
    "import matplotlib.pyplot as plt\n",
    "import numpy as np\n",
    "import seaborn as sns\n",
    "from scipy import stats\n",
    "%matplotlib inline\n",
    "sns.set()\n",
    "\n",
    "sns.distplot(np.random.normal(0, 2, 10000), kde=False, fit=stats.gamma);"
   ]
  },
  {
   "cell_type": "markdown",
   "metadata": {},
   "source": [
    "### Task 2\n",
    "Plot bankroll after each coin toss for both players."
   ]
  },
  {
   "cell_type": "code",
   "execution_count": null,
   "metadata": {},
   "outputs": [],
   "source": [
    "# Gambler ruin game for two players:\n",
    "#  player_bank: int - initial number of coins for player\n",
    "#  opponent_bank: int - initial number of coins for opponent \n",
    "#  p: float - propability of player win\n",
    "#  max_i: int - maximum number of iterations allowed\n",
    "def gambler_ruin(player_bank, opponent_bank, p, max_i):\n",
    "    player = player_bank\n",
    "    opponent = opponent_bank\n",
    "    hist_player = [player]\n",
    "    hist_opponent = [opponent]\n",
    "    i = max_i\n",
    "    while 0 < player < (player_bank + opponent_bank) and 0 < i:\n",
    "        result = (-1, 1) if p < np.random.random() else (1, -1)\n",
    "        player += result[0]\n",
    "        opponent += result[1]\n",
    "        hist_player.append(player)\n",
    "        hist_opponent.append(opponent)\n",
    "        i -= 1\n",
    "    return {\"player\":hist_player, \"opponent\":hist_opponent}"
   ]
  },
  {
   "cell_type": "code",
   "execution_count": null,
   "metadata": {},
   "outputs": [],
   "source": [
    "result = gambler_ruin(50, 10, 0.42, 1000)    \n",
    "plt.plot(result[\"player\"], label=\"player\");\n",
    "plt.plot(result[\"opponent\"], label=\"opponent\");\n",
    "plt.legend(loc='best')\n",
    "plt.show()"
   ]
  },
  {
   "cell_type": "markdown",
   "metadata": {},
   "source": [
    "### Task 3\n",
    "Plot propability distribution of gambler's ruin for initial bankroll. Compare results with analitical results."
   ]
  },
  {
   "cell_type": "code",
   "execution_count": null,
   "metadata": {},
   "outputs": [],
   "source": [
    "# Propability for -fair- coin flipping\n",
    "#  n1: int - first player coins\n",
    "#  n2: int - second player coins\n",
    "def fair_propability(n1, n2):\n",
    "    return n2 / (n1 + n2)\n",
    "\n",
    "# Propability for -unfair- coin flipping \n",
    "#  n1: int - first player coins\n",
    "#  n2: int - second player coins\n",
    "#  p: float - propability of player win\n",
    "#  q: float - propability of opponent win\n",
    "def unfair_propability(n1, n2, p, q):\n",
    "    # Note that p + q should always be equal to 1 !!!\n",
    "    if p == 0.5 or q ==0.5:\n",
    "        return fair_propability(n1, n2)\n",
    "    return (1 - (p / q) ** n2) / (1 - (p / q) ** (n1 + n2))\n",
    "\n",
    "# Propability of gambler ruin for two players (analitical approach)\n",
    "#  player_bank: int - initial number of coins for player\n",
    "#  opponent_bank: int - initial number of coins for opponent \n",
    "#  p: float - propability of player win\n",
    "#  q: float - propability of opponent win\n",
    "def analitical_gambler_ruin(player_bank, opponent_bank, p, q):\n",
    "    player_propability = unfair_propability(player_bank, opponent_bank, p, q)\n",
    "    return (player_propability, 1 - player_propability)\n",
    "\n",
    "# Combine result from actual gambler ruin and analytical result\n",
    "#  bankroll_range: int - a range that will be used as the initial nuber of coins for both players\n",
    "#  propability: float - propability of player win\n",
    "#  max_i: int \n",
    "def generate_results(tests, bankroll_range, propability, max_i):    \n",
    "    player_results = []\n",
    "    player_losing_predictions = []\n",
    "    for bankroll in bankroll_range:\n",
    "        tests_losts = 0\n",
    "        tests_won = 0\n",
    "        analitical_result = analitical_gambler_ruin(bankroll, bankroll, propability, 1-propability)[0]\n",
    "        for _ in range(0, tests):\n",
    "            result = gambler_ruin(bankroll, bankroll, propability, max_i)\n",
    "            tests_losts += 1 if result[\"player\"][-1] == 0 else 0\n",
    "        player_results.append(tests_losts/tests)\n",
    "        player_losing_predictions.append(analitical_result)\n",
    "    return [player_results, player_losing_predictions]"
   ]
  },
  {
   "cell_type": "code",
   "execution_count": null,
   "metadata": {},
   "outputs": [],
   "source": [
    "def plot_and_show(values, twinx_values, title, twinx_title, color, twinx_color):\n",
    "    fig, axis = plt.subplots()\n",
    "    twinx_axis = axis.twinx()\n",
    "    lines = axis.plot(values, label=title, color=color, marker='o', linestyle=\":\")\n",
    "    lines += twinx_axis.plot(twinx_values, label=twinx_title, color=twinx_color)\n",
    "    labels = [line.get_label() for line in lines]\n",
    "    plt.legend(lines, labels, loc='best')\n",
    "    plt.show()\n",
    "\n",
    "results = generate_results(100, range(1, 100), 0.42, 10000)\n",
    "plot_and_show(results[0], results[1], \"result\", \"propability of losing\", \"g\", \"b\")"
   ]
  },
  {
   "cell_type": "markdown",
   "metadata": {},
   "source": [
    "### Task 4\n",
    "Plot histogram for number of coin tosses needed to finish game with different propabilities."
   ]
  },
  {
   "cell_type": "code",
   "execution_count": null,
   "metadata": {},
   "outputs": [],
   "source": [
    "# Get total of turns for each testes game\n",
    "#  tests: int - a numer of test -> how many games will be played\n",
    "#  bankroll: int - initial nuber of coins for both players\n",
    "#  propability: float - propability of player win\n",
    "#  max_i: int \n",
    "def number_of_games_to_end(tests, bankroll, propability, max_i = 1000):\n",
    "    tests_results = []\n",
    "    for _ in range(0, tests):\n",
    "        game_result = gambler_ruin(bankroll, bankroll, propability, max_i)\n",
    "        tests_results.append(len(game_result[\"player\"] + game_result[\"player\"]))\n",
    "    return tests_results"
   ]
  },
  {
   "cell_type": "code",
   "execution_count": null,
   "metadata": {},
   "outputs": [],
   "source": [
    "def plot_and_show(data, title):\n",
    "    sns.distplot(data)\n",
    "    plt.title(title)\n",
    "    plt.show()\n",
    "    \n",
    "propabilities = [0.2, 0.5, 0.8]\n",
    "for propability in propabilities:\n",
    "    game_results = number_of_games_to_end(500, 16, propability)\n",
    "    plot_and_show(game_results, \"Mean of turns to end the game with propability \" + str(propability) + \" equals \" + str(np.mean(game_results)))"
   ]
  },
  {
   "cell_type": "markdown",
   "metadata": {},
   "source": [
    "### Task 6\n",
    "Plot players bankroll after `n` amount of games."
   ]
  },
  {
   "cell_type": "code",
   "execution_count": null,
   "metadata": {},
   "outputs": [],
   "source": [
    "# Return players bankroll after desired amount of games played\n",
    "#  plays: int - a numer of test -> how many games will be played\n",
    "#  bankroll: int - initial nuber of coins for both players\n",
    "#  propability: float - propability of player win\n",
    "#  max_i: int \n",
    "def players_bankroll_after(plays, bankroll, propability, max_i = 1000):\n",
    "    results = [ gambler_ruin(bankroll, bankroll, propability, max_i)[\"player\"][-1] for _ in range(plays)]\n",
    "    return results"
   ]
  },
  {
   "cell_type": "code",
   "execution_count": null,
   "metadata": {},
   "outputs": [],
   "source": [
    "propability = 0.5\n",
    "n_bar = 4200\n",
    "playsarr = [10, int(0.5 * n_bar), int(0.9 * n_bar)]\n",
    "\n",
    "for plays in playsarr:\n",
    "    results = players_bankroll_after(plays, 64, propability)\n",
    "    plot_and_show(results, \"Distribution of players final bankroll state after \" + str(plays) + \" plays with propability equal \" + str(propability))"
   ]
  },
  {
   "cell_type": "markdown",
   "metadata": {},
   "source": [
    "### Task 7\n",
    "Plot propability distribution for player's ruin for different initial propability for small and big initial bankroll."
   ]
  },
  {
   "cell_type": "code",
   "execution_count": null,
   "metadata": {},
   "outputs": [],
   "source": [
    "# Return propability of losing after desired amount of tests, propability and bankroll\n",
    "#  tests: int - a numer of test -> how many games will be played\n",
    "#  bankroll: int - initial nuber of coins for both players\n",
    "#  propability: float - propability of player win\n",
    "#  max_i: int \n",
    "def propability_of_losing(tests, bankroll, propability, max_i = 1000):\n",
    "    results = [gambler_ruin(bankroll, bankroll, propability, max_i)[\"player\"][-1] == 0 for _ in range(tests)]\n",
    "    return np.mean(results)"
   ]
  },
  {
   "cell_type": "code",
   "execution_count": null,
   "metadata": {},
   "outputs": [],
   "source": [
    "bankrolls = [4, 64]\n",
    "for bankroll in bankrolls:\n",
    "    results = [propability_of_losing(100, bankroll, propability/100) for propability in range(1, 100)]\n",
    "    plt.plot(results)\n",
    "    plt.title(\"Propability of losing with starting bankroll equal to \" +  str(bankroll))\n",
    "    plt.show()"
   ]
  },
  {
   "cell_type": "code",
   "execution_count": null,
   "metadata": {},
   "outputs": [],
   "source": []
  }
 ],
 "metadata": {
  "kernelspec": {
   "display_name": "Python 3",
   "language": "python",
   "name": "python3"
  },
  "language_info": {
   "codemirror_mode": {
    "name": "ipython",
    "version": 3
   },
   "file_extension": ".py",
   "mimetype": "text/x-python",
   "name": "python",
   "nbconvert_exporter": "python",
   "pygments_lexer": "ipython3",
   "version": "3.6.3"
  }
 },
 "nbformat": 4,
 "nbformat_minor": 2
}
