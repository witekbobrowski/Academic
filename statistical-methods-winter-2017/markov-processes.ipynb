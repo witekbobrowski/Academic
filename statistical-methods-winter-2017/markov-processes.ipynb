{
 "cells": [
  {
   "cell_type": "markdown",
   "metadata": {},
   "source": [
    "# Markov processes"
   ]
  },
  {
   "cell_type": "markdown",
   "metadata": {},
   "source": [
    "### Task 9\n",
    "\n",
    "Simple simulation of Markov process"
   ]
  },
  {
   "cell_type": "code",
   "execution_count": 63,
   "metadata": {},
   "outputs": [],
   "source": [
    "import matplotlib.pyplot as plt\n",
    "import numpy as np\n",
    "%matplotlib inline\n",
    "\n",
    "\n",
    "class TransitionMatrix:\n",
    "\n",
    "    def __init__(self, matrix):\n",
    "        self.matrix = matrix\n",
    "        \n",
    "    def transitions(self, state):\n",
    "        return self.matrix[state]\n",
    "        \n",
    "    @property\n",
    "    def raw(self):\n",
    "        return np.matrix([list(self.matrix[state][1]) for state in self.matrix], dtype=float)\n",
    "\n",
    "        \n",
    "class MarkovChain:\n",
    "\n",
    "    def __init__(self, transition_matrix, current):\n",
    "        self.transition_matrix = transition_matrix\n",
    "        self.current = current\n",
    "\n",
    "    def next_state(self):\n",
    "        transitions = self.transition_matrix.transitions(self.current)\n",
    "        self.current = np.random.choice(a=list(transitions[0]), p=list(transitions[1]))"
   ]
  },
  {
   "cell_type": "markdown",
   "metadata": {},
   "source": [
    "a) Calculate P^n for random n and find limit in n->inf"
   ]
  },
  {
   "cell_type": "code",
   "execution_count": 104,
   "metadata": {},
   "outputs": [
    {
     "data": {
      "image/png": "[encoded data removed]",
      "text/plain": [
       "<matplotlib.figure.Figure at 0x111ca6518>"
      ]
     },
     "metadata": {},
     "output_type": "display_data"
    }
   ],
   "source": [
    "transitions = {'A': np.array([['A', 'B', 'C'], [0.0, 0.16, 0.84]]),\n",
    "               'B': np.array([['A', 'B', 'C'], [0.64, 0.0, 0.36]]),\n",
    "               'C': np.array([['A', 'B', 'C'], [0.43, 0.57, 0.0]])}\n",
    "\n",
    "matrix = TransitionMatrix(transitions)\n",
    "\n",
    "def get_data(matrix, power):\n",
    "    results = []\n",
    "    current = matrix\n",
    "    for power in range(1, power):\n",
    "        current = current * matrix\n",
    "        results.append(np.array(current.diagonal())[0])\n",
    "    return results\n",
    "\n",
    "results = get_data(matrix.raw, 50)\n",
    "x = np.arange(1,50)\n",
    "\n",
    "plt.figure()\n",
    "plt.plot(x, results)\n",
    "plt.title(\"Transition Matrix diagonal values change in the function of n\")\n",
    "plt.xlabel(\"n\")\n",
    "plt.show()    "
   ]
  },
  {
   "cell_type": "markdown",
   "metadata": {},
   "source": [
    "b)"
   ]
  },
  {
   "cell_type": "code",
   "execution_count": 46,
   "metadata": {},
   "outputs": [
    {
     "name": "stdout",
     "output_type": "stream",
     "text": [
      "C\n",
      "A\n",
      "B\n",
      "C\n",
      "A\n",
      "C\n",
      "A\n",
      "A\n",
      "C\n",
      "A\n"
     ]
    }
   ],
   "source": [
    "\n",
    "chain = MarkovChain(matrix, 'A')\n",
    "\n",
    "for _ in range(10):\n",
    "    chain.next_state()\n",
    "    print(chain.current)"
   ]
  },
  {
   "cell_type": "code",
   "execution_count": null,
   "metadata": {},
   "outputs": [],
   "source": []
  }
 ],
 "metadata": {
  "kernelspec": {
   "display_name": "Python 3",
   "language": "python",
   "name": "python3"
  },
  "language_info": {
   "codemirror_mode": {
    "name": "ipython",
    "version": 3
   },
   "file_extension": ".py",
   "mimetype": "text/x-python",
   "name": "python",
   "nbconvert_exporter": "python",
   "pygments_lexer": "ipython3",
   "version": "3.6.3"
  }
 },
 "nbformat": 4,
 "nbformat_minor": 2
}
