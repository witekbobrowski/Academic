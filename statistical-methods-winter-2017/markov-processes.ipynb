{
 "cells": [
  {
   "cell_type": "markdown",
   "metadata": {},
   "source": [
    "# Markov processes"
   ]
  },
  {
   "cell_type": "markdown",
   "metadata": {},
   "source": [
    "### Task 9\n",
    "\n",
    "Simple simulation of Markov process"
   ]
  },
  {
   "cell_type": "code",
   "execution_count": 1,
   "metadata": {},
   "outputs": [],
   "source": [
    "import matplotlib.pyplot as plt\n",
    "import numpy as np\n",
    "%matplotlib inline\n",
    "\n",
    "\n",
    "class TransitionMatrix:\n",
    "\n",
    "    def __init__(self, matrix):\n",
    "        self.matrix = matrix\n",
    "        \n",
    "    def transitions(self, state):\n",
    "        return self.matrix[state]\n",
    "        \n",
    "    @property\n",
    "    def raw(self):\n",
    "        return np.matrix([list(self.matrix[state][1]) for state in self.matrix], dtype=float)\n",
    "\n",
    "        \n",
    "class MarkovChain:\n",
    "\n",
    "    def __init__(self, transition_matrix, current):\n",
    "        self.transition_matrix = transition_matrix\n",
    "        self.current = current\n",
    "\n",
    "    def next_state(self):\n",
    "        transitions = self.transition_matrix.transitions(self.current)\n",
    "        self.current = np.random.choice(a=list(transitions[0]), p=list(transitions[1]))"
   ]
  },
  {
   "cell_type": "markdown",
   "metadata": {},
   "source": [
    "#### Calculate P^n for random n and find limit in n->inf"
   ]
  },
  {
   "cell_type": "code",
   "execution_count": 2,
   "metadata": {
    "scrolled": true
   },
   "outputs": [],
   "source": [
    "def is_steady_state(matrix_a, matrix_b):\n",
    "    check = matrix_b - matrix_a\n",
    "    return np.all(check < 10 ** (-5))\n",
    "\n",
    "\n",
    "def find_steady_state(matrix, power):\n",
    "    powers = []\n",
    "    current = matrix\n",
    "    steady_state = None\n",
    "    for n in range(1, power):\n",
    "        temp = current * matrix\n",
    "        if not steady_state and is_steady_state(current, temp):\n",
    "            steady_state = n\n",
    "        current = temp\n",
    "        powers.append(temp)\n",
    "    return {\"steady_state\": steady_state, \"powers\": powers}"
   ]
  },
  {
   "cell_type": "code",
   "execution_count": 4,
   "metadata": {},
   "outputs": [
    {
     "name": "stdout",
     "output_type": "stream",
     "text": [
      "Steady state was found at n equal to 22\n"
     ]
    },
    {
     "data": {
      "image/png": "[encoded data removed]",
      "text/plain": [
       "<matplotlib.figure.Figure at 0x1084a9828>"
      ]
     },
     "metadata": {},
     "output_type": "display_data"
    }
   ],
   "source": [
    "transitions = {'A': np.array([['A', 'B', 'C'], [0.0, 0.16, 0.84]]),\n",
    "               'B': np.array([['A', 'B', 'C'], [0.64, 0.0, 0.36]]),\n",
    "               'C': np.array([['A', 'B', 'C'], [0.43, 0.57, 0.0]])}\n",
    "\n",
    "matrix = TransitionMatrix(transitions)\n",
    "steady_state = find_steady_state(matrix.raw, 64)\n",
    "\n",
    "if steady_state[\"steady_state\"]:\n",
    "    print(\"Steady state was found at n equal to \" + str(steady_state[\"steady_state\"]))\n",
    "else:\n",
    "    print(\"Steady state was not found... try with higher power\")\n",
    "    \n",
    "plt.figure()\n",
    "plt.plot(np.arange(1, 64), [np.array(matrix.diagonal())[0] for matrix in steady_state[\"powers\"]])\n",
    "plt.title(\"Transition Matrix diagonal values change in the function of n\")\n",
    "plt.xlabel(\"n\")\n",
    "plt.show()    "
   ]
  },
  {
   "cell_type": "markdown",
   "metadata": {},
   "source": [
    "#### Evolution of the system"
   ]
  },
  {
   "cell_type": "code",
   "execution_count": 43,
   "metadata": {},
   "outputs": [],
   "source": [
    "def simulate_system(chain, times):\n",
    "    for _ in range(times):\n",
    "        chain.next_state()\n",
    "    return chain.current\n",
    "\n",
    "\n",
    "def get_shares_of_results(times, matrix, initial_state):\n",
    "    chain = MarkovChain(matrix, initial_state)\n",
    "    results = np.array([simulate_system(chain, steady_state[\"steady_state\"]) for _ in range(times)])\n",
    "    states, counts = np.unique(results, return_counts=True)\n",
    "    for index, state in enumerate(list(states)):\n",
    "        print(\"Share of state '\" + str(state) + \"' after\", times, \"tests equals\", counts[index]/times)\n",
    "    plt.bar(states, counts)\n",
    "    plt.show()"
   ]
  },
  {
   "cell_type": "code",
   "execution_count": 44,
   "metadata": {},
   "outputs": [
    {
     "name": "stdout",
     "output_type": "stream",
     "text": [
      "Share of state 'A' after 10000 tests equals 0.3501\n",
      "Share of state 'B' after 10000 tests equals 0.2651\n",
      "Share of state 'C' after 10000 tests equals 0.3848\n"
     ]
    },
    {
     "data": {
      "image/png": "[encoded data removed]",
      "text/plain": [
       "<matplotlib.figure.Figure at 0x111833748>"
      ]
     },
     "metadata": {},
     "output_type": "display_data"
    }
   ],
   "source": [
    "N = 10 ** 4\n",
    "get_shares_of_results(N, matrix, \"A\")"
   ]
  },
  {
   "cell_type": "code",
   "execution_count": 45,
   "metadata": {},
   "outputs": [
    {
     "name": "stdout",
     "output_type": "stream",
     "text": [
      "Share of state 'A' after 10000 tests equals 0.3371\n",
      "Share of state 'B' after 10000 tests equals 0.2733\n",
      "Share of state 'C' after 10000 tests equals 0.3896\n"
     ]
    },
    {
     "data": {
      "image/png": "[encoded data removed]",
      "text/plain": [
       "<matplotlib.figure.Figure at 0x1118344a8>"
      ]
     },
     "metadata": {},
     "output_type": "display_data"
    }
   ],
   "source": [
    "get_shares_of_results(N, matrix, \"B\")"
   ]
  },
  {
   "cell_type": "code",
   "execution_count": 46,
   "metadata": {},
   "outputs": [
    {
     "name": "stdout",
     "output_type": "stream",
     "text": [
      "Share of state 'A' after 10000 tests equals 0.3443\n",
      "Share of state 'B' after 10000 tests equals 0.2653\n",
      "Share of state 'C' after 10000 tests equals 0.3904\n"
     ]
    },
    {
     "data": {
      "image/png": "[encoded data removed]",
      "text/plain": [
       "<matplotlib.figure.Figure at 0x111c7b4a8>"
      ]
     },
     "metadata": {},
     "output_type": "display_data"
    }
   ],
   "source": [
    "get_shares_of_results(N, matrix, \"C\")"
   ]
  }
 ],
 "metadata": {
  "kernelspec": {
   "display_name": "Python 3",
   "language": "python",
   "name": "python3"
  },
  "language_info": {
   "codemirror_mode": {
    "name": "ipython",
    "version": 3
   },
   "file_extension": ".py",
   "mimetype": "text/x-python",
   "name": "python",
   "nbconvert_exporter": "python",
   "pygments_lexer": "ipython3",
   "version": "3.6.3"
  }
 },
 "nbformat": 4,
 "nbformat_minor": 2
}
