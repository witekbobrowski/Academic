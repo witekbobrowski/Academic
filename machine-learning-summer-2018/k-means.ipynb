{
 "cells": [
  {
   "cell_type": "markdown",
   "metadata": {},
   "source": [
    "# Machine Learning (Summer 2017)\n",
    "\n",
    "> Implement possibilistic k-means\n",
    "\n",
    "## Homework 4"
   ]
  },
  {
   "cell_type": "code",
   "execution_count": null,
   "metadata": {},
   "outputs": [],
   "source": [
    "%matplotlib inline\n",
    "import matplotlib.pyplot as plt\n",
    "import numpy as np\n",
    "import pandas as pd\n",
    "import seaborn as sns\n",
    "from sklearn.neighbors import DistanceMetric\n",
    "sns.set()"
   ]
  },
  {
   "cell_type": "code",
   "execution_count": null,
   "metadata": {},
   "outputs": [],
   "source": [
    "dataset = pd.read_csv('datasets/xclara.csv')\n",
    "dataset.head()\n",
    "print(len(dataset))"
   ]
  },
  {
   "cell_type": "code",
   "execution_count": null,
   "metadata": {},
   "outputs": [],
   "source": [
    "class KMeans:\n",
    "    \n",
    "    def __init__(self, clusters: int = 8, max_iterations: int = 1000):\n",
    "        self.clusters = clusters\n",
    "        self.max_iterations = max_iterations\n",
    "        self.tol = 1e-5\n",
    "\n",
    "    def distances(self, centroid, X, axis=0):\n",
    "        return np.linalg.norm(centroid - X, axis=axis) ** 2\n",
    "   #     return np.sqrt(np.sum(centroid - X, axis=axis)) ** 2\n",
    "        \n",
    "    def get_initial_centroids(self, X):\n",
    "        random_index = np.random.randint(0, len(X))\n",
    "        initial_centroid = X[random_index]\n",
    "        reduced_X = np.delete(X, random_index, 0)\n",
    "        centroids = [initial_centroid]\n",
    "        for cluster in range(self.clusters - 1):\n",
    "            dists = self.distances(centroids[cluster], X)\n",
    "            dists = dists/np.sum(dists)\n",
    "            random_index = np.random.choice(len(dists), p=dists)\n",
    "            centroids.append(reduced_X[random_index])\n",
    "            reduced_X = np.delete(reduced_X, random_index, 0)\n",
    "        return np.array(centroids)\n",
    "            \n",
    "    def fit(self, X):\n",
    "        X = X.values if isinstance(X, pd.DataFrame) else X\n",
    "        self.centroids = self.get_initial_centroids(X)\n",
    "        for _ in range(self.max_iterations):\n",
    "            distances = np.array([self.distances(X, centroid, axis=1) for centroid in self.centroids])\n",
    "            assignment_array = np.argmin(distances, axis=0)\n",
    "            masks = np.array([\n",
    "                    np.equal(assignment_array, cluster)\n",
    "                    for cluster in np.unique(assignment_array)\n",
    "                ])\n",
    "            new_centroids = np.array([np.mean(X[mask], axis=0) for mask in masks])\n",
    "            centroid_distances = self.distances(self.centroids, new_centroids, axis=-1)\n",
    "            if centroid_distances.all() < self.tol:\n",
    "                return\n",
    "            self.centroids = new_centroids\n",
    "\n",
    "    def predict(self, X):\n",
    "        distances = np.array([self.distances(centroid, X, axis=1) for centroid in self.centroids])\n",
    "        return np.argmin(distances, axis=0)"
   ]
  },
  {
   "cell_type": "code",
   "execution_count": null,
   "metadata": {},
   "outputs": [],
   "source": [
    "k_means = KMeans(clusters=3)\n",
    "k_means.fit(dataset)\n",
    "clusters = k_means.predict(dataset)\n",
    "dataset['clusters'] = clusters\n",
    "sns.lmplot(x='V1', y='V2', hue='clusters', data=dataset, fit_reg=False)"
   ]
  }
 ],
 "metadata": {},
 "nbformat": 4,
 "nbformat_minor": 2
}
