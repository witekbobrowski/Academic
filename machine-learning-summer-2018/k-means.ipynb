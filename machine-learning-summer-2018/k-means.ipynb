{
 "cells": [
  {
   "cell_type": "markdown",
   "metadata": {},
   "source": [
    "# Machine Learning (Summer 2018)\n",
    "\n",
    "## Homework 4\n",
    "\n",
    "- Implement possibilistic\n",
    "K-means\n",
    "\n",
    "or\n",
    "\n",
    "-  Implement Fuzzy C-means\n",
    "\n",
    "not sure which one should I do so I am\n",
    "goind to implement both.\n",
    "\n",
    "#### Importing libraries"
   ]
  },
  {
   "cell_type": "code",
   "execution_count": 1,
   "metadata": {
    "attributes": {
     "classes": [],
     "id": "",
     "n": "1"
    }
   },
   "outputs": [],
   "source": [
    "%matplotlib inline\n",
    "import matplotlib.pyplot as plt\n",
    "import numpy as np\n",
    "import pandas as pd\n",
    "import seaborn as sns\n",
    "from sklearn.neighbors import DistanceMetric\n",
    "sns.set()"
   ]
  },
  {
   "cell_type": "markdown",
   "metadata": {},
   "source": [
    "#### Loading dataset"
   ]
  },
  {
   "cell_type": "code",
   "execution_count": 2,
   "metadata": {
    "attributes": {
     "classes": [],
     "id": "",
     "n": "2"
    }
   },
   "outputs": [
    {
     "data": {
      "text/html": [
       "<div>\n",
       "<style scoped>\n",
       "    .dataframe tbody tr th:only-of-type {\n",
       "        vertical-align: middle;\n",
       "    }\n",
       "\n",
       "    .dataframe tbody tr th {\n",
       "        vertical-align: top;\n",
       "    }\n",
       "\n",
       "    .dataframe thead th {\n",
       "        text-align: right;\n",
       "    }\n",
       "</style>\n",
       "<table border=\"1\" class=\"dataframe\">\n",
       "  <thead>\n",
       "    <tr style=\"text-align: right;\">\n",
       "      <th></th>\n",
       "      <th>V1</th>\n",
       "      <th>V2</th>\n",
       "    </tr>\n",
       "  </thead>\n",
       "  <tbody>\n",
       "    <tr>\n",
       "      <th>0</th>\n",
       "      <td>2.072345</td>\n",
       "      <td>-3.241693</td>\n",
       "    </tr>\n",
       "    <tr>\n",
       "      <th>1</th>\n",
       "      <td>17.936710</td>\n",
       "      <td>15.784810</td>\n",
       "    </tr>\n",
       "    <tr>\n",
       "      <th>2</th>\n",
       "      <td>1.083576</td>\n",
       "      <td>7.319176</td>\n",
       "    </tr>\n",
       "    <tr>\n",
       "      <th>3</th>\n",
       "      <td>11.120670</td>\n",
       "      <td>14.406780</td>\n",
       "    </tr>\n",
       "    <tr>\n",
       "      <th>4</th>\n",
       "      <td>23.711550</td>\n",
       "      <td>2.557729</td>\n",
       "    </tr>\n",
       "  </tbody>\n",
       "</table>\n",
       "</div>"
      ],
      "text/plain": [
       "          V1         V2\n",
       "0   2.072345  -3.241693\n",
       "1  17.936710  15.784810\n",
       "2   1.083576   7.319176\n",
       "3  11.120670  14.406780\n",
       "4  23.711550   2.557729"
      ]
     },
     "execution_count": 2,
     "metadata": {},
     "output_type": "execute_result"
    }
   ],
   "source": [
    "dataset = pd.read_csv('datasets/xclara.csv')\n",
    "dataset.head()"
   ]
  },
  {
   "cell_type": "markdown",
   "metadata": {},
   "source": [
    "#### Implementing K-means"
   ]
  },
  {
   "cell_type": "code",
   "execution_count": 3,
   "metadata": {
    "attributes": {
     "classes": [],
     "id": "",
     "n": "3"
    }
   },
   "outputs": [],
   "source": [
    "class KMeans:\n",
    "    \n",
    "    def __init__(self, clusters: int = 8, max_iterations: int = 1000):\n",
    "        self.clusters = clusters\n",
    "        self.max_iterations = max_iterations\n",
    "        self.tol = 1e-5\n",
    "\n",
    "    def distances(self, centroid, X, axis=0):\n",
    "        return np.linalg.norm(centroid - X, axis=axis) ** 2\n",
    "        \n",
    "    def get_initial_centroids(self, X):\n",
    "        random_index = np.random.randint(0, len(X))\n",
    "        initial_centroid = X[random_index]\n",
    "        reduced_X = np.delete(X, random_index, 0)\n",
    "        centroids = [initial_centroid]\n",
    "        for cluster in range(self.clusters - 1):\n",
    "            dists = self.distances(centroids[cluster], X)\n",
    "            dists = dists/np.sum(dists)\n",
    "            random_index = np.random.choice(len(dists), p=dists)\n",
    "            centroids.append(reduced_X[random_index])\n",
    "            reduced_X = np.delete(reduced_X, random_index, 0)\n",
    "        return np.array(centroids)\n",
    "            \n",
    "    def fit(self, X):\n",
    "        X = X.values if isinstance(X, pd.DataFrame) else X\n",
    "        self.centroids = self.get_initial_centroids(X)\n",
    "        for _ in range(self.max_iterations):\n",
    "            distances = np.array([\n",
    "                            self.distances(X, centroid, axis=1) \n",
    "                            for centroid in self.centroids\n",
    "                        ])\n",
    "            assignment_array = np.argmin(distances, axis=0)\n",
    "            masks = np.array([\n",
    "                        np.equal(assignment_array, cluster)\n",
    "                        for cluster in np.unique(assignment_array)\n",
    "                    ])\n",
    "            new_centroids = np.array([\n",
    "                                np.mean(X[mask], axis=0)\n",
    "                                for mask in masks\n",
    "                            ])\n",
    "            centroid_distances = self.distances(self.centroids, new_centroids, axis=-1)\n",
    "            if centroid_distances.all() < self.tol:\n",
    "                return\n",
    "            self.centroids = new_centroids\n",
    "\n",
    "    def predict(self, X):\n",
    "        distances = np.array([\n",
    "                        self.distances(centroid, X, axis=1) \n",
    "                        for centroid in self.centroids\n",
    "                    ])\n",
    "        return np.argmin(distances, axis=0)"
   ]
  },
  {
   "cell_type": "markdown",
   "metadata": {},
   "source": [
    "#### Training `KMeans` model and predicting on the same dataset."
   ]
  },
  {
   "cell_type": "code",
   "execution_count": 4,
   "metadata": {
    "attributes": {
     "classes": [],
     "id": "",
     "n": "4"
    }
   },
   "outputs": [
    {
     "data": {
      "text/plain": [
       "<seaborn.axisgrid.FacetGrid at 0x11581a128>"
      ]
     },
     "execution_count": 4,
     "metadata": {},
     "output_type": "execute_result"
    },
    {
     "data": {
      "image/png": "[encoded data removed]",
      "text/plain": [
       "<matplotlib.figure.Figure at 0x11581a2b0>"
      ]
     },
     "metadata": {},
     "output_type": "display_data"
    }
   ],
   "source": [
    "k_means = KMeans(clusters=3)\n",
    "k_means.fit(dataset)\n",
    "clusters = k_means.predict(dataset)\n",
    "k_means_dataset = dataset\n",
    "k_means_dataset['clusters'] = clusters\n",
    "sns.lmplot(x='V1', y='V2', hue='clusters', data=k_means_dataset, fit_reg=False)"
   ]
  },
  {
   "cell_type": "markdown",
   "metadata": {},
   "source": [
    "#### Implementing C-means"
   ]
  },
  {
   "cell_type": "code",
   "execution_count": 3,
   "metadata": {
    "attributes": {
     "classes": [],
     "id": "",
     "n": "3"
    }
   },
   "outputs": [],
   "source": [
    "class CMeans:\n",
    "    \n",
    "    def __init__(self, clusters: int = 8, fuzzifier: float= 2.5, max_iterations: int = 1000):\n",
    "        self.clusters = clusters\n",
    "        self.fuzzifier = fuzzifier\n",
    "        self.max_iterations = max_iterations\n",
    "        self.tol = 1e-5\n",
    "\n",
    "    def distances(self, centroid, X, axis=0):\n",
    "        return np.linalg.norm(centroid - X, axis=axis) ** 2\n",
    "        \n",
    "    def get_initial_centroids(self, X):\n",
    "        random_index = np.random.randint(0, len(X))\n",
    "        initial_centroid = X[random_index]\n",
    "        reduced_X = np.delete(X, random_index, 0)\n",
    "        centroids = [initial_centroid]\n",
    "        for cluster in range(self.clusters - 1):\n",
    "            dists = self.distances(centroids[cluster], X)\n",
    "            dists = dists/np.sum(dists)\n",
    "            random_index = np.random.choice(len(dists), p=dists)\n",
    "            centroids.append(reduced_X[random_index])\n",
    "            reduced_X = np.delete(reduced_X, random_index, 0)\n",
    "        return np.array(centroids)\n",
    "            \n",
    "    def fit(self, X):\n",
    "        X = X.values if isinstance(X, pd.DataFrame) else X\n",
    "        self.centroids = self.get_initial_centroids(X)\n",
    "        for _ in range(self.max_iterations):\n",
    "            distances = np.array([\n",
    "                            self.distances(X, centroid, axis=1) \n",
    "                            for centroid in self.centroids\n",
    "                        ])\n",
    "            print(distances.shape())\n",
    "            cluster_probabilities = distances/np.sum(distances, axis=0)\n",
    "            print(cluster_probabilities.shape())\n",
    "            new_centroids = (np.power(cluster_probabilities, self.fuzzifier).dot(X))/cluster_probabilities.shape[1]\n",
    "            print(new_centroids)\n",
    "            print(new_centroids.shape())\n",
    "            centroid_distances = self.distances(self.centroids, new_centroids, axis=-1)\n",
    "            if centroid_distances.all() < self.tol:\n",
    "                return\n",
    "            self.centroids = new_centroids\n",
    "\n",
    "    def predict(self, X):\n",
    "        distances = np.array([\n",
    "                        self.distances(centroid, X, axis=1) \n",
    "                        for centroid in self.centroids\n",
    "                    ])\n",
    "        return np.argmin(distances, axis=0)"
   ]
  },
  {
   "cell_type": "markdown",
   "metadata": {},
   "source": [
    "#### Training `CMeans` model and predicting on the same dataset."
   ]
  },
  {
   "cell_type": "code",
   "execution_count": 4,
   "metadata": {
    "attributes": {
     "classes": [],
     "id": "",
     "n": "4"
    }
   },
   "outputs": [],
   "source": [
    "c_means_data = dataset\n",
    "c_means = CMeans(clusters=3)\n",
    "c_means.fit(c_means_data)\n",
    "clusters = c_means.predict(c_means_data)\n",
    "c_means_data['clusters'] = clusters\n",
    "sns.lmplot(x='V1', y='V2', hue='clusters', data=c_means_data, fit_reg=False)"
   ]
  }
 ],
 "metadata": {},
 "nbformat": 4,
 "nbformat_minor": 2
}
