{
 "cells": [
  {
   "cell_type": "markdown",
   "metadata": {},
   "source": [
    "# Machine Learning (Summer 2018)\n",
    "\n",
    "## Homework 4\n",
    "- Implement the Czekanowski-Dice index."
   ]
  },
  {
   "cell_type": "markdown",
   "metadata": {},
   "source": [
    "#### Importing Libraries"
   ]
  },
  {
   "cell_type": "code",
   "execution_count": 12,
   "metadata": {},
   "outputs": [],
   "source": [
    "import numpy as np"
   ]
  },
  {
   "cell_type": "markdown",
   "metadata": {},
   "source": [
    "### Implementing helper methods\n",
    "\n",
    "__Confussion Matrix__"
   ]
  },
  {
   "cell_type": "code",
   "execution_count": 13,
   "metadata": {},
   "outputs": [],
   "source": [
    "def get_confusion_matrix(results, target, classes):\n",
    "    if len(results) != len(target):\n",
    "        return None\n",
    "    matrix = np.zeros(shape=(len(classes),len(classes)))\n",
    "    for r, t in zip(results, target):\n",
    "        matrix[r][t] += 1\n",
    "    return matrix"
   ]
  },
  {
   "cell_type": "markdown",
   "metadata": {},
   "source": [
    "__Table of confusion__"
   ]
  },
  {
   "cell_type": "code",
   "execution_count": 14,
   "metadata": {},
   "outputs": [],
   "source": [
    "def get_table_of_confusion(confusion_matrix, t_class):\n",
    "    table = np.zeros(shape=(2,2))\n",
    "    for i_r, result in enumerate(confusion_matrix):\n",
    "        for i_t, target in enumerate(confusion_matrix[i_r]):\n",
    "            if i_r == t_class:\n",
    "                if i_t == t_class:\n",
    "                    table[0][0] += confusion_matrix[i_r][i_t]\n",
    "                else:\n",
    "                    table[0][1] += confusion_matrix[i_r][i_t]\n",
    "            else:\n",
    "                if i_t == t_class:\n",
    "                    table[1][0] += confusion_matrix[i_r][i_t]\n",
    "                else:\n",
    "                    table[1][1] += confusion_matrix[i_r][i_t]\n",
    "    return table"
   ]
  },
  {
   "cell_type": "markdown",
   "metadata": {},
   "source": [
    "__Recall__"
   ]
  },
  {
   "cell_type": "code",
   "execution_count": 17,
   "metadata": {},
   "outputs": [],
   "source": [
    "def get_recall(table_of_confusion):\n",
    "    return (table_of_confusion[0][0])/(table_of_confusion[0][0]+table_of_confusion[1][0])"
   ]
  },
  {
   "cell_type": "markdown",
   "metadata": {},
   "source": [
    "__Precision__"
   ]
  },
  {
   "cell_type": "code",
   "execution_count": 19,
   "metadata": {},
   "outputs": [],
   "source": [
    "def get_precision(table_of_confusion):\n",
    "    return (table_of_confusion[0][0])/(table_of_confusion[0][0]+toc[0][1])"
   ]
  },
  {
   "cell_type": "markdown",
   "metadata": {},
   "source": [
    "### Implementing Czekanowski Dice index\n",
    "...or Sørensen–Dice, F1 score"
   ]
  },
  {
   "cell_type": "code",
   "execution_count": 21,
   "metadata": {},
   "outputs": [],
   "source": [
    "def czekanowski_dice_index(results, target, classes, t_class):\n",
    "    confusion_matrix = get_confusion_matrix(results, target, classes)\n",
    "    table_of_confusion = get_table_of_confusion(confusion_matrix, t_class)\n",
    "    recall = get_recall(table_of_confusion)\n",
    "    precision = get_precision(table_of_confusion)\n",
    "    return 2 * ((precision * recall) / (precision + recall))"
   ]
  }
 ],
 "metadata": {
  "kernelspec": {
   "display_name": "Python 3",
   "language": "python",
   "name": "python3"
  },
  "language_info": {
   "codemirror_mode": {
    "name": "ipython",
    "version": 3
   },
   "file_extension": ".py",
   "mimetype": "text/x-python",
   "name": "python",
   "nbconvert_exporter": "python",
   "pygments_lexer": "ipython3",
   "version": "3.6.3"
  }
 },
 "nbformat": 4,
 "nbformat_minor": 2
}
