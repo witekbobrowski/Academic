{
 "cells": [
  {
   "cell_type": "markdown",
   "metadata": {},
   "source": [
    "# Machine Learning (Summer 2018)\n",
    "\n",
    "## Homework 5\n",
    "- Implement a Perceptron. \n",
    "- Train and test it for the Iris data set below \n",
    "- Visualise the data points and\n",
    "the decission boundry of your trained \n",
    "Perceptron on a 2D plot (petal length vs\n",
    "petal width)\n",
    "- Compare to sklearn implementation"
   ]
  },
  {
   "cell_type": "code",
   "execution_count": 1,
   "metadata": {
    "attributes": {
     "classes": [
      "python3"
     ],
     "id": ""
    }
   },
   "outputs": [],
   "source": [
    "import numpy as np\n",
    "import matplotlib.pyplot as plt\n",
    "from sklearn.datasets import load_iris\n",
    "from sklearn.linear_model import Perceptron"
   ]
  },
  {
   "cell_type": "markdown",
   "metadata": {},
   "source": [
    "#### Implementing a Perceptron"
   ]
  },
  {
   "cell_type": "code",
   "execution_count": 49,
   "metadata": {},
   "outputs": [],
   "source": [
    "class Perceptron:\n",
    "\n",
    "\n",
    "    def __init__(self, weights: [float] = [], \n",
    "                 bias: float = 1,\n",
    "                 learning_rate: float = 0.001,\n",
    "                 max_iterations: int = 10000):\n",
    "        self.weights = weights\n",
    "        self.bias = bias\n",
    "        self.learning_rate = learning_rate\n",
    "        self.max_iterations = max_iterations # or epoch\n",
    "\n",
    "\n",
    "    def fit(self, X, y):\n",
    "        for i in range(self.max_iterations):\n",
    "            neededAdjusments = False\n",
    "            for x, target in zip(X, y):\n",
    "                result = self.predict(x)\n",
    "                if result != target: \n",
    "                    adjust = (result - target)\n",
    "                    # Adjust bias                     \n",
    "                    self.bias -= self.learning_rate * adjust\n",
    "                    # Adjust weights\n",
    "                    self.weights = [w - self.learning_rate * adjust * x  \n",
    "                                    for (x, w) in zip(x, self.weights)]\n",
    "                    # Toggle flag on\n",
    "                    neededAdjusments = True\n",
    "            if not neededAdjusments:\n",
    "                # Neurons are 'perfectly' fitter for the dataset\n",
    "                print(\"Network fitted in epoch\", i)\n",
    "                return\n",
    "\n",
    "\n",
    "    def predict(self, x):\n",
    "        result = sum([x * w for (x, w) in zip(x, self.weights)]) + self.bias\n",
    "        return 0 if result <= 0 else 1"
   ]
  },
  {
   "cell_type": "markdown",
   "metadata": {},
   "source": [
    "#### Training"
   ]
  },
  {
   "cell_type": "code",
   "execution_count": 64,
   "metadata": {},
   "outputs": [
    {
     "name": "stdout",
     "output_type": "stream",
     "text": [
      "Network fitted in epoch 6\n"
     ]
    }
   ],
   "source": [
    "iris = load_iris()\n",
    "X = iris.data[:, (2, 3)]  # use only petal length and petal width\n",
    "y = (iris.target == 0).astype(np.int) # check only if it's an Iris-Setosa (1), or no (0)\n",
    "\n",
    "rand_weights = [(2 * np.random.random()) - 1 for _ in range(2)]\n",
    "rand_bias = 2 * np.random.random() - 1\n",
    "\n",
    "network = Perceptron(rand_weights, rand_bias)\n",
    "network.fit(X, y)"
   ]
  },
  {
   "cell_type": "markdown",
   "metadata": {},
   "source": [
    "#### Visualization of data"
   ]
  },
  {
   "cell_type": "code",
   "execution_count": 65,
   "metadata": {},
   "outputs": [
    {
     "data": {
      "image/png": "[encoded data removed]",
      "text/plain": [
       "<matplotlib.figure.Figure at 0x114c91e80>"
      ]
     },
     "metadata": {},
     "output_type": "display_data"
    }
   ],
   "source": [
    "x_min, x_max = X[:, 0].min() - .5, X[:, 0].max() + .5\n",
    "y_min, y_max = X[:, 1].min() - .5, X[:, 1].max() + .5\n",
    "\n",
    "slope = -(network.weights[0]/network.weights[1])\n",
    "offset = -network.bias/network.weights[1]\n",
    "plt.plot([x_min, x_max], [slope*x_min + offset, slope*x_max + offset])\n",
    "\n",
    "plt.figure(1, figsize=(8, 6))\n",
    "\n",
    "plt.scatter(X[:, 0], X[:, 1], c=y, cmap=plt.cm.Set1, edgecolor='black')\n",
    "plt.xlabel('petal length')\n",
    "plt.ylabel('petal width')\n",
    "\n",
    "plt.xlim(x_min, x_max)\n",
    "plt.ylim(y_min, y_max)\n",
    "\n",
    "plt.show()"
   ]
  },
  {
   "cell_type": "code",
   "execution_count": null,
   "metadata": {},
   "outputs": [],
   "source": []
  }
 ],
 "metadata": {
  "kernelspec": {
   "display_name": "Python 3",
   "language": "python",
   "name": "python3"
  },
  "language_info": {
   "codemirror_mode": {
    "name": "ipython",
    "version": 3
   },
   "file_extension": ".py",
   "mimetype": "text/x-python",
   "name": "python",
   "nbconvert_exporter": "python",
   "pygments_lexer": "ipython3",
   "version": "3.6.3"
  }
 },
 "nbformat": 4,
 "nbformat_minor": 2
}
