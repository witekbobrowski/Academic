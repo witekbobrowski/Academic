{
 "cells": [
  {
   "cell_type": "markdown",
   "metadata": {},
   "source": [
    "# Machine Learnign (Summer 2017)\n",
    "\n",
    "## Warm up homework:\n",
    "\n",
    "#### Plot how the mean square error changes with the polynomial degree ranging between 1 and 30. Do this for the cosine and some other function of your choosing. See what happens if you increase the measurment noise. \n",
    "\n",
    "> This is very small so you have one week. You can send the associate, SEPARATE notebook to my e-mail. \n",
    "If you still have time, you can do it durring this first class."
   ]
  },
  {
   "cell_type": "code",
   "execution_count": 82,
   "metadata": {},
   "outputs": [],
   "source": [
    "from sklearn.preprocessing import StandardScaler\n",
    "from sklearn.linear_model import LinearRegression\n",
    "from sklearn.model_selection import cross_val_score\n",
    "from sklearn.metrics import mean_squared_error\n",
    "import numpy as np\n",
    "import matplotlib.pyplot as plt\n",
    "%matplotlib inline"
   ]
  },
  {
   "cell_type": "code",
   "execution_count": 83,
   "metadata": {},
   "outputs": [],
   "source": [
    "def mean_squared_error_for(true_fun, features, degrees, n_samples=10000, learn_ratio=0.8, noise_sigma=0.25):\n",
    "    learn_samples = int(n_samples * learn_ratio)    \n",
    "    y = true_fun(features) # Target\n",
    "    \n",
    "    # Measurment noise\n",
    "    mu, sigma = 0, 0.25\n",
    "    for i in range(0, len(x)):\n",
    "        features[i] += np.random.normal(mu, noise_sigma)    \n",
    "\n",
    "    data = [features]    \n",
    "\n",
    "    for _ in degrees:\n",
    "        data.append(data[-1] * x)\n",
    "    \n",
    "    X = np.matrix(data).transpose()\n",
    "    scaler = StandardScaler()\n",
    "    scaler.fit(X)\n",
    "\n",
    "    scores = []\n",
    "    for i in degrees:\n",
    "        linear_regresion = LinearRegression()\n",
    "        linear_regresion.fit(X[:learn_samples,:i], y[:learn_samples])\n",
    "        scores.append(mean_squared_error(y_true=y[learn_samples:n_samples], y_pred=linear_regresion.predict(X[learn_samples:n_samples,:i])))\n",
    "        \n",
    "    return scores"
   ]
  },
  {
   "cell_type": "code",
   "execution_count": 84,
   "metadata": {
    "scrolled": false
   },
   "outputs": [
    {
     "data": {
      "image/png": "[encoded data removed]",
      "text/plain": [
       "<matplotlib.figure.Figure at 0x117d2d630>"
      ]
     },
     "metadata": {},
     "output_type": "display_data"
    }
   ],
   "source": [
    "degrees = range(1, 30)\n",
    "n_samples = 10000\n",
    "features = np.sort(np.random.uniform(0, 4*(np.pi), n_samples)) # Features\n",
    "\n",
    "plt.plot(mean_squared_error_for(np.cos, features, degrees, n_samples))\n",
    "plt.plot(mean_squared_error_for(np.sin, features, degrees, n_samples))\n",
    "plt.show()"
   ]
  },
  {
   "cell_type": "code",
   "execution_count": null,
   "metadata": {},
   "outputs": [],
   "source": []
  }
 ],
 "metadata": {
  "kernelspec": {
   "display_name": "Python 3",
   "language": "python",
   "name": "python3"
  },
  "language_info": {
   "codemirror_mode": {
    "name": "ipython",
    "version": 3
   },
   "file_extension": ".py",
   "mimetype": "text/x-python",
   "name": "python",
   "nbconvert_exporter": "python",
   "pygments_lexer": "ipython3",
   "version": "3.6.4"
  }
 },
 "nbformat": 4,
 "nbformat_minor": 2
}
