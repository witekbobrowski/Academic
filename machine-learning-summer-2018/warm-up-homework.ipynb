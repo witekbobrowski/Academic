{
 "cells": [
  {
   "cell_type": "markdown",
   "metadata": {},
   "source": [
    "# Machine Learnign (Summer 2017)\n",
    "\n",
    "## Warm up homework:\n",
    "\n",
    "#### Plot how the mean square error changes with the polynomial degree ranging between 1 and 30. Do this for the cosine and some other function of your choosing. See what happens if you increase the measurment noise. \n",
    "\n",
    "> This is very small so you have one week. You can send the associate, SEPARATE notebook to my e-mail. \n",
    "If you still have time, you can do it durring this first class."
   ]
  },
  {
   "cell_type": "code",
   "execution_count": 59,
   "metadata": {},
   "outputs": [],
   "source": [
    "from sklearn.preprocessing import StandardScaler\n",
    "from sklearn.linear_model import LinearRegression\n",
    "from sklearn.model_selection import cross_val_score\n",
    "from sklearn.metrics import mean_squared_error\n",
    "import numpy as np\n",
    "import matplotlib.pyplot as plt\n",
    "%matplotlib inline "
   ]
  },
  {
   "cell_type": "code",
   "execution_count": 70,
   "metadata": {
    "scrolled": true
   },
   "outputs": [
    {
     "data": {
      "image/png": "[encoded data removed]",
      "text/plain": [
       "<matplotlib.figure.Figure at 0x102ab5128>"
      ]
     },
     "metadata": {},
     "output_type": "display_data"
    }
   ],
   "source": [
    "degrees = range(1, 30)\n",
    "n_samples = 10000\n",
    "learn_samples = int(n_samples * 0.8)\n",
    "\n",
    "X = np.sort(np.random.uniform(0, 4*(np.pi), n_samples)) # Features\n",
    "y = [np.cos(x) for x in X] # Target\n",
    "\n",
    "# Measurment noise\n",
    "mu, sigma = 0, 0.25\n",
    "for i in range(0, len(X)):\n",
    "    X[i] += np.random.normal(mu, sigma)    \n",
    "\n",
    "data = [X]    \n",
    "\n",
    "for _ in degrees:\n",
    "    data.append(data[-1] * X)\n",
    "    \n",
    "matrix = np.matrix(data).transpose()\n",
    "scaler = StandardScaler()\n",
    "scaler.fit(matrix)\n",
    "\n",
    "# scores = [cross_val_score(LinearRegression(), matrix[:,:i], y, cv=5) for i in range(1, 30)]\n",
    "scores = []\n",
    "for i in degrees:\n",
    "    linear_regresion = LinearRegression()\n",
    "    linear_regresion.fit(matrix[:learn_samples,:i], y[:learn_samples])\n",
    "    scores.append(mean_squared_error(linear_regresion.predict(matrix[learn_samples:n_samples,:i]), y[learn_samples:n_samples]))\n",
    "\n",
    "plt.plot(scores)\n",
    "plt.show()"
   ]
  },
  {
   "cell_type": "code",
   "execution_count": null,
   "metadata": {},
   "outputs": [],
   "source": []
  }
 ],
 "metadata": {
  "kernelspec": {
   "display_name": "Python 3",
   "language": "python",
   "name": "python3"
  },
  "language_info": {
   "codemirror_mode": {
    "name": "ipython",
    "version": 3
   },
   "file_extension": ".py",
   "mimetype": "text/x-python",
   "name": "python",
   "nbconvert_exporter": "python",
   "pygments_lexer": "ipython3",
   "version": "3.6.4"
  }
 },
 "nbformat": 4,
 "nbformat_minor": 2
}
