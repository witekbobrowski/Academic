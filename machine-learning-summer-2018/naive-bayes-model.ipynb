{
 "cells": [
  {
   "cell_type": "markdown",
   "metadata": {},
   "source": [
    "# Machine Learning (Summer 2017)\n",
    "\n",
    "## Homework 2:\n",
    "\n",
    "\n",
    "- Implement Naive Bayes model (remember about smoothing). \n",
    "- Find a reasonably interesting but not to complicated dataset for which you will be able to use this model to perform binary classification. Do the latter.\n",
    "- Produce the confussion matrix, calculate accuracy, precission, recall\n",
    "- Check how your model does against its version from sklearn and logistic regression from sklearn. "
   ]
  },
  {
   "cell_type": "markdown",
   "metadata": {},
   "source": [
    "### Importing libraries"
   ]
  },
  {
   "cell_type": "code",
   "execution_count": 1,
   "metadata": {},
   "outputs": [],
   "source": [
    "import pandas as pd\n",
    "import numpy as np"
   ]
  },
  {
   "cell_type": "markdown",
   "metadata": {},
   "source": [
    "### Implementing Naive Bayes"
   ]
  },
  {
   "cell_type": "code",
   "execution_count": 2,
   "metadata": {},
   "outputs": [],
   "source": [
    "class MultinomialNaiveBayes:\n",
    "    \n",
    "    def __init__(self, alpha=1.0):\n",
    "        self.alpha = alpha\n",
    "\n",
    "    def fit(self, X, y):\n",
    "        self.classes = np.unique(y)\n",
    "        self.features = [np.unique(X[:,column]) for column in range(X.shape[1])]\n",
    "        grouped = [[x for x, t in zip(X, y) if t == c] for c in self.classes]\n",
    "        self.class_log_prior = [np.log(len(group)/X.shape[0]) for group in grouped]\n",
    "        self.log_probs = self.feature_log_probs(grouped)\n",
    "        return self\n",
    "    \n",
    "    def log_prob(self, amount, total, unique):\n",
    "        return np.log((amount + self.alpha)/np.sum(total + (unique * self.alpha)))\n",
    "    \n",
    "    def feature_log_probs(self, grouped):\n",
    "        group_counts = [[np.unique(column, return_counts=True) for column in np.array(group).T] for group in grouped]\n",
    "        counts_dicts = [[{k:v for k, v in zip(count[0],count[1])} for count in group] for group in group_counts]\n",
    "        return [[[self.log_prob(d.get(key, 0), sum(d.values()),feature.shape[0]) for key in feature] for feature, d in zip(self.features, c)] for c in counts_dicts]\n",
    "    \n",
    "    def get_log_probs(self, row):\n",
    "        inidices = [np.where(keys == key)[0][0] for keys, key in zip(self.features, row)]\n",
    "        return [[f_probs[index] for f_probs, index in zip(c_probs, inidices)] for c_probs in self.log_probs]\n",
    "    \n",
    "    def predict_log_prob(self, X):\n",
    "        return [np.array(self.get_log_probs(x)).sum(axis=1) + self.class_log_prior for x in X]\n",
    "    \n",
    "    def predict(self, X):\n",
    "        return np.argmax(self.predict_log_prob(X), axis=1)"
   ]
  },
  {
   "cell_type": "markdown",
   "metadata": {},
   "source": [
    "### Importing data set\n",
    "\n",
    "Source: [Car Evaluation Data Set ](https://archive.ics.uci.edu/ml/datasets/car+evaluation)\n",
    "\n",
    "**Class values:**   \n",
    "unacc, acc, good, vgood\n",
    "\n",
    "**Attributes:**\n",
    "- buying:   vhigh, high, med, low.\n",
    "- maint:    vhigh, high, med, low.\n",
    "- doors:    2, 3, 4, 5more.\n",
    "- persons:  2, 4, more.\n",
    "- lug_boot: small, med, big.\n",
    "- safety:   low, med, high."
   ]
  },
  {
   "cell_type": "code",
   "execution_count": 3,
   "metadata": {},
   "outputs": [],
   "source": [
    "DATASET_DIR = '~/Downloads/'\n",
    "\n",
    "attributes = ['buying', 'maint', 'doors', 'persons', 'lug_boot', 'safety']\n",
    "cars_dataset = pd.read_csv(DATASET_DIR+'car.data.txt')\n",
    "cars_dataset.columns = attributes + ['class']"
   ]
  },
  {
   "cell_type": "code",
   "execution_count": 4,
   "metadata": {
    "scrolled": false
   },
   "outputs": [
    {
     "data": {
      "text/html": [
       "<div>\n",
       "<style scoped>\n",
       "    .dataframe tbody tr th:only-of-type {\n",
       "        vertical-align: middle;\n",
       "    }\n",
       "\n",
       "    .dataframe tbody tr th {\n",
       "        vertical-align: top;\n",
       "    }\n",
       "\n",
       "    .dataframe thead th {\n",
       "        text-align: right;\n",
       "    }\n",
       "</style>\n",
       "<table border=\"1\" class=\"dataframe\">\n",
       "  <thead>\n",
       "    <tr style=\"text-align: right;\">\n",
       "      <th></th>\n",
       "      <th>buying</th>\n",
       "      <th>maint</th>\n",
       "      <th>doors</th>\n",
       "      <th>persons</th>\n",
       "      <th>lug_boot</th>\n",
       "      <th>safety</th>\n",
       "      <th>class</th>\n",
       "    </tr>\n",
       "  </thead>\n",
       "  <tbody>\n",
       "    <tr>\n",
       "      <th>1722</th>\n",
       "      <td>low</td>\n",
       "      <td>low</td>\n",
       "      <td>5more</td>\n",
       "      <td>more</td>\n",
       "      <td>med</td>\n",
       "      <td>med</td>\n",
       "      <td>good</td>\n",
       "    </tr>\n",
       "    <tr>\n",
       "      <th>1723</th>\n",
       "      <td>low</td>\n",
       "      <td>low</td>\n",
       "      <td>5more</td>\n",
       "      <td>more</td>\n",
       "      <td>med</td>\n",
       "      <td>high</td>\n",
       "      <td>vgood</td>\n",
       "    </tr>\n",
       "    <tr>\n",
       "      <th>1724</th>\n",
       "      <td>low</td>\n",
       "      <td>low</td>\n",
       "      <td>5more</td>\n",
       "      <td>more</td>\n",
       "      <td>big</td>\n",
       "      <td>low</td>\n",
       "      <td>unacc</td>\n",
       "    </tr>\n",
       "    <tr>\n",
       "      <th>1725</th>\n",
       "      <td>low</td>\n",
       "      <td>low</td>\n",
       "      <td>5more</td>\n",
       "      <td>more</td>\n",
       "      <td>big</td>\n",
       "      <td>med</td>\n",
       "      <td>good</td>\n",
       "    </tr>\n",
       "    <tr>\n",
       "      <th>1726</th>\n",
       "      <td>low</td>\n",
       "      <td>low</td>\n",
       "      <td>5more</td>\n",
       "      <td>more</td>\n",
       "      <td>big</td>\n",
       "      <td>high</td>\n",
       "      <td>vgood</td>\n",
       "    </tr>\n",
       "  </tbody>\n",
       "</table>\n",
       "</div>"
      ],
      "text/plain": [
       "     buying maint  doors persons lug_boot safety  class\n",
       "1722    low   low  5more    more      med    med   good\n",
       "1723    low   low  5more    more      med   high  vgood\n",
       "1724    low   low  5more    more      big    low  unacc\n",
       "1725    low   low  5more    more      big    med   good\n",
       "1726    low   low  5more    more      big   high  vgood"
      ]
     },
     "execution_count": 4,
     "metadata": {},
     "output_type": "execute_result"
    }
   ],
   "source": [
    "cars_dataset.tail()"
   ]
  },
  {
   "cell_type": "markdown",
   "metadata": {},
   "source": [
    "### Calculate results"
   ]
  },
  {
   "cell_type": "code",
   "execution_count": 85,
   "metadata": {},
   "outputs": [],
   "source": [
    "def naive_bayes(X, y, train_ratio=0.8, alpha=1.0):\n",
    "    nb = MultinomialNaiveBayes(alpha)\n",
    "    train_X, train_y = X[:int(X.shape[0] * train_ratio)], y[:int(y.shape[0] * train_ratio)]\n",
    "    nb.fit(train_X, train_y)\n",
    "    predict_X, predict_y = X[int(X.shape[0] * train_ratio):], y[int(y.shape[0] * train_ratio):]\n",
    "    return nb.predict(predict_X), [np.where(nb.classes == y)[0][0] for y in predict_y], nb.classes"
   ]
  },
  {
   "cell_type": "code",
   "execution_count": 141,
   "metadata": {},
   "outputs": [],
   "source": [
    "def confusion_matrix(results, target, classes):\n",
    "    if len(results) != len(target):\n",
    "        return None\n",
    "    matrix = np.zeros(shape=(len(classes),len(classes)))\n",
    "    for r, t in zip(results, target):\n",
    "        matrix[r][t] += 1\n",
    "    return matrix\n",
    "\n",
    "def table_of_confusion(confusion_matrix, t_class):\n",
    "    table = np.zeros(shape=(2,2))\n",
    "    for i_r, result in enumerate(confusion_matrix):\n",
    "        for i_t, target in enumerate(confusion_matrix[i_r]):\n",
    "            if i_r == t_class:\n",
    "                if i_t == t_class:\n",
    "                    table[0][0] += confusion_matrix[i_r][i_t]\n",
    "                else:\n",
    "                    table[0][1] += confusion_matrix[i_r][i_t]\n",
    "            else:\n",
    "                if i_t == t_class:\n",
    "                    table[1][0] += confusion_matrix[i_r][i_t]\n",
    "                else:\n",
    "                    table[1][1] += confusion_matrix[i_r][i_t]\n",
    "    return table\n",
    "\n",
    "def accuracy(table_of_confusion):\n",
    "    return (table_of_confusion[0][0]+table_of_confusion[1][1])/sum(sum(table_of_confusion))\n",
    "\n",
    "def precision(table_of_confusion):\n",
    "    return (table_of_confusion[0][0])/(table_of_confusion[0][0]+table_of_confusion[0][1])\n",
    "\n",
    "def recall(table_of_confusion):\n",
    "    return (table_of_confusion[0][0])/(table_of_confusion[0][0]+table_of_confusion[1][0])"
   ]
  },
  {
   "cell_type": "code",
   "execution_count": 142,
   "metadata": {},
   "outputs": [
    {
     "name": "stdout",
     "output_type": "stream",
     "text": [
      "confussion matrix:\n",
      " ['acc' 'good' 'unacc' 'vgood'] \n",
      " [[  38.   46.    2.   39.]\n",
      " [   0.    0.    0.    0.]\n",
      " [  25.    0.  196.    0.]\n",
      " [   0.    0.    0.    0.]]\n",
      "table of confusion:\n",
      " ['acc', 'non-acc'] \n",
      " [[  38.   87.]\n",
      " [  25.  196.]]\n",
      "accuracy for class \"acc\" : 0.676300578035\n",
      "precision for class \"acc\" : 0.304\n",
      "recall for class \"acc\" : 0.603174603175\n"
     ]
    }
   ],
   "source": [
    "X = np.array(cars_dataset.iloc[:,0:-1])\n",
    "y = cars_dataset.iloc[:,-1]\n",
    "\n",
    "result, target, classes = naive_bayes(X, y, 0.8)\n",
    "confusion_matrix = confusion_matrix(result, target, classes)\n",
    "t_class_name = \"acc\"\n",
    "t_class = np.where(classes == t_class_name)[0][0]\n",
    "table_of_confusion = table_of_confusion(confusion_matrix, t_class)\n",
    "print(\"confussion matrix:\\n\", classes, \"\\n\", confusion_matrix)\n",
    "print(\"table of confusion:\\n\", [t_class_name, \"non-\" + t_class_name], \"\\n\",table_of_confusion)\n",
    "print(\"accuracy for class\", '\"' + t_class_name + '\"' ,\":\", accuracy(table_of_confusion))\n",
    "print(\"precision for class\", '\"' + t_class_name + '\"' ,\":\", precision(table_of_confusion))\n",
    "print(\"recall for class\", '\"' + t_class_name + '\"' ,\":\", recall(table_of_confusion))"
   ]
  },
  {
   "cell_type": "code",
   "execution_count": null,
   "metadata": {},
   "outputs": [],
   "source": []
  },
  {
   "cell_type": "code",
   "execution_count": null,
   "metadata": {},
   "outputs": [],
   "source": []
  }
 ],
 "metadata": {
  "kernelspec": {
   "display_name": "Python 3",
   "language": "python",
   "name": "python3"
  },
  "language_info": {
   "codemirror_mode": {
    "name": "ipython",
    "version": 3
   },
   "file_extension": ".py",
   "mimetype": "text/x-python",
   "name": "python",
   "nbconvert_exporter": "python",
   "pygments_lexer": "ipython3",
   "version": "3.6.3"
  }
 },
 "nbformat": 4,
 "nbformat_minor": 2
}
